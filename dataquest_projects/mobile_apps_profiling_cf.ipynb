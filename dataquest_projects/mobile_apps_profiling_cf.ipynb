{
 "cells": [
  {
   "cell_type": "markdown",
   "metadata": {},
   "source": [
    "By Charles Fleury, guided by a project from app.dataquest.io\n",
    "\n",
    "#App Store and Google Play Store applications profiling\n",
    "\n",
    "##Goal and fictional context: \n",
    "We are part of a mobile developing company and are charged with the task of finding what kind of application would be profitable in both the iOS and the Android market based on collected data. We have twp guidelines that help us direct our research and analysis : The app we'll build will be free and generate revenue from in-app adds, and it will be an English app."
   ]
  },
  {
   "cell_type": "markdown",
   "metadata": {},
   "source": [
    "##Opening and exploring data\n",
    "\n",
    "We already have two datasets that suit our need:\n",
    "\n",
    "A [data set](https://www.kaggle.com/lava18/google-play-store-apps) containing data about approximately ten thousand Android apps from Google Play.\n",
    "\n",
    "A [data set](https://www.kaggle.com/ramamet4/app-store-apple-data-set-10k-apps) containing data about approximately seven thousand iOS apps from the App Store. "
   ]
  },
  {
   "cell_type": "code",
   "execution_count": 114,
   "metadata": {},
   "outputs": [],
   "source": [
    "from csv import reader\n",
    "\n",
    "opened_file_A = open('AppleStore.csv', encoding='utf8')\n",
    "read_file_A = reader(opened_file_A)\n",
    "applestore_data = list(read_file_A)\n",
    "\n",
    "opened_file_B = open('googleplaystore.csv', encoding='utf8')\n",
    "read_file_B = reader(opened_file_B)\n",
    "googleplay_data = list(read_file_B)"
   ]
  },
  {
   "cell_type": "markdown",
   "metadata": {},
   "source": [
    "We create a function that shows us a slice of our dataset"
   ]
  },
  {
   "cell_type": "code",
   "execution_count": 115,
   "metadata": {
    "collapsed": true
   },
   "outputs": [],
   "source": [
    "def explore_data(dataset, start, end, rows_and_columns=False):\n",
    "    dataset_slice = dataset[start:end]    \n",
    "    for row in dataset_slice:\n",
    "        print(row)\n",
    "        print('\\n') # adds a new (empty) line after each row\n",
    "\n",
    "    if rows_and_columns:\n",
    "        print('Number of rows:', len(dataset))\n",
    "        print('Number of columns:', len(dataset[0]))"
   ]
  },
  {
   "cell_type": "markdown",
   "metadata": {},
   "source": [
    "Let's see what our datasets look like from looking at the first couple of rows"
   ]
  },
  {
   "cell_type": "code",
   "execution_count": 116,
   "metadata": {},
   "outputs": [
    {
     "name": "stdout",
     "output_type": "stream",
     "text": [
      "['id', 'track_name', 'size_bytes', 'currency', 'price', 'rating_count_tot', 'rating_count_ver', 'user_rating', 'user_rating_ver', 'ver', 'cont_rating', 'prime_genre', 'sup_devices.num', 'ipadSc_urls.num', 'lang.num', 'vpp_lic']\n",
      "\n",
      "\n",
      "['284882215', 'Facebook', '389879808', 'USD', '0.0', '2974676', '212', '3.5', '3.5', '95.0', '4+', 'Social Networking', '37', '1', '29', '1']\n",
      "\n",
      "\n",
      "['389801252', 'Instagram', '113954816', 'USD', '0.0', '2161558', '1289', '4.5', '4.0', '10.23', '12+', 'Photo & Video', '37', '0', '29', '1']\n",
      "\n",
      "\n",
      "['529479190', 'Clash of Clans', '116476928', 'USD', '0.0', '2130805', '579', '4.5', '4.5', '9.24.12', '9+', 'Games', '38', '5', '18', '1']\n",
      "\n",
      "\n",
      "Number of rows: 7198\n",
      "Number of columns: 16\n"
     ]
    }
   ],
   "source": [
    "explore_data(applestore_data, 0, 4, True)"
   ]
  },
  {
   "cell_type": "code",
   "execution_count": 117,
   "metadata": {},
   "outputs": [
    {
     "name": "stdout",
     "output_type": "stream",
     "text": [
      "['App', 'Category', 'Rating', 'Reviews', 'Size', 'Installs', 'Type', 'Price', 'Content Rating', 'Genres', 'Last Updated', 'Current Ver', 'Android Ver']\n",
      "\n",
      "\n",
      "['Photo Editor & Candy Camera & Grid & ScrapBook', 'ART_AND_DESIGN', '4.1', '159', '19M', '10,000+', 'Free', '0', 'Everyone', 'Art & Design', 'January 7, 2018', '1.0.0', '4.0.3 and up']\n",
      "\n",
      "\n",
      "['Coloring book moana', 'ART_AND_DESIGN', '3.9', '967', '14M', '500,000+', 'Free', '0', 'Everyone', 'Art & Design;Pretend Play', 'January 15, 2018', '2.0.0', '4.0.3 and up']\n",
      "\n",
      "\n",
      "['U Launcher Lite – FREE Live Cool Themes, Hide Apps', 'ART_AND_DESIGN', '4.7', '87510', '8.7M', '5,000,000+', 'Free', '0', 'Everyone', 'Art & Design', 'August 1, 2018', '1.2.4', '4.0.3 and up']\n",
      "\n",
      "\n",
      "Number of rows: 10842\n",
      "Number of columns: 13\n"
     ]
    }
   ],
   "source": [
    "explore_data(googleplay_data, 0, 4, True)"
   ]
  },
  {
   "cell_type": "markdown",
   "metadata": {},
   "source": [
    "We see that both datasets have a header, so real data starts on row 1.\n",
    "Interesting columns from our datasets are price, number of reviews, installs, name and ratings."
   ]
  },
  {
   "cell_type": "markdown",
   "metadata": {},
   "source": [
    "##Data cleaning\n",
    "\n",
    "###Part 1: Error\n",
    "\n",
    "From a [discussion on the Google Play dataset](https://www.kaggle.com/lava18/google-play-store-apps/discussion/66015), we learn that row 10472 (actually 10473 with the header) has an error: it has 12 columns instead of 13, because the 'Category' value is missing. We'll delete it."
   ]
  },
  {
   "cell_type": "code",
   "execution_count": 118,
   "metadata": {},
   "outputs": [
    {
     "name": "stdout",
     "output_type": "stream",
     "text": [
      "['App', 'Category', 'Rating', 'Reviews', 'Size', 'Installs', 'Type', 'Price', 'Content Rating', 'Genres', 'Last Updated', 'Current Ver', 'Android Ver']\n",
      "['Life Made WI-Fi Touchscreen Photo Frame', '1.9', '19', '3.0M', '1,000+', 'Free', '0', 'Everyone', '', 'February 11, 2018', '1.0.19', '4.0 and up']\n"
     ]
    }
   ],
   "source": [
    "print(googleplay_data[0])\n",
    "print(googleplay_data[10473])"
   ]
  },
  {
   "cell_type": "code",
   "execution_count": 119,
   "metadata": {},
   "outputs": [],
   "source": [
    "del googleplay_data[10473]"
   ]
  },
  {
   "cell_type": "code",
   "execution_count": 120,
   "metadata": {},
   "outputs": [
    {
     "name": "stdout",
     "output_type": "stream",
     "text": [
      "['osmino Wi-Fi: free WiFi', 'TOOLS', '4.2', '134203', '4.1M', '10,000,000+', 'Free', '0', 'Everyone', 'Tools', 'August 7, 2018', '6.06.14', '4.4 and up']\n"
     ]
    }
   ],
   "source": [
    "print(googleplay_data[10473])"
   ]
  },
  {
   "cell_type": "markdown",
   "metadata": {},
   "source": [
    "###Part 2: Removing duplicate apps\n",
    "\n",
    "The [discussion on Google Play Apps](https://www.kaggle.com/lava18/google-play-store-apps/discussion) also reveals there are duplicate apps in the dataset. We'll create functions that identify them and eventually keep only the most pertinent instance of each app.\n",
    "\n",
    "Here's an example showing a duplicate application:"
   ]
  },
  {
   "cell_type": "code",
   "execution_count": 121,
   "metadata": {},
   "outputs": [
    {
     "name": "stdout",
     "output_type": "stream",
     "text": [
      "['Facebook', 'SOCIAL', '4.1', '78158306', 'Varies with device', '1,000,000,000+', 'Free', '0', 'Teen', 'Social', 'August 3, 2018', 'Varies with device', 'Varies with device']\n",
      "['Facebook', 'SOCIAL', '4.1', '78128208', 'Varies with device', '1,000,000,000+', 'Free', '0', 'Teen', 'Social', 'August 3, 2018', 'Varies with device', 'Varies with device']\n"
     ]
    }
   ],
   "source": [
    "for app in googleplay_data:\n",
    "    name = app[0]\n",
    "    if name == 'Facebook':\n",
    "        print(app)"
   ]
  },
  {
   "cell_type": "code",
   "execution_count": 122,
   "metadata": {},
   "outputs": [
    {
     "name": "stdout",
     "output_type": "stream",
     "text": [
      "['Quick PDF Scanner + OCR FREE', 'Box', 'Google My Business', 'ZOOM Cloud Meetings', 'join.me - Simple Meetings']\n",
      "Number of duplicate apps: 1181\n"
     ]
    }
   ],
   "source": [
    "unique_apps = []\n",
    "duplicate_apps = []\n",
    "\n",
    "for app in googleplay_data:\n",
    "    name = app[0]\n",
    "    if name in unique_apps:\n",
    "        duplicate_apps.append(name)\n",
    "    else:\n",
    "        unique_apps.append(name)\n",
    "        \n",
    "print(duplicate_apps[:5])\n",
    "print('Number of duplicate apps:', len(duplicate_apps))"
   ]
  },
  {
   "cell_type": "markdown",
   "metadata": {},
   "source": [
    "We can see we actually have 1181 duplicate apps whose names are stored in our duplicate_apps list.\n",
    "\n",
    "To select which instance of the app we will work on, we will base our decision on the number of reviews. We saw above with the duplicate apps of Facebook that only the number of reviews varied from one app to its duplicate. We will work only with the instance of the app that has the higher number of reviews.\n",
    "\n",
    "We start be creating a dictionary storing each app and its highest number of reviews."
   ]
  },
  {
   "cell_type": "code",
   "execution_count": 123,
   "metadata": {},
   "outputs": [
    {
     "name": "stdout",
     "output_type": "stream",
     "text": [
      "Expected length: 9659\n",
      "Real length of dictionary: 9659\n"
     ]
    }
   ],
   "source": [
    "reviews_max = {}\n",
    "\n",
    "for app in googleplay_data[1:]: #excluding the header\n",
    "    name = app[0]\n",
    "    n_reviews = float(app[3])\n",
    "    if name in reviews_max and n_reviews > reviews_max[name]:\n",
    "        reviews_max[name] = n_reviews\n",
    "    elif name not in reviews_max:\n",
    "        reviews_max[name] = n_reviews\n",
    "\n",
    "print('Expected length:', len(googleplay_data) - 1181 - 1) #removing duplicates and header\n",
    "print('Real length of dictionary:', len(reviews_max))\n",
    "        "
   ]
  },
  {
   "cell_type": "markdown",
   "metadata": {},
   "source": [
    "We will now use reviews_max to remove the duplicate apps from our data. We will append an app from the original dataset to our clean data only of it contains the highest number of reviews and has not been added yet."
   ]
  },
  {
   "cell_type": "code",
   "execution_count": 124,
   "metadata": {},
   "outputs": [
    {
     "name": "stdout",
     "output_type": "stream",
     "text": [
      "Expected length: 9659 rows\n",
      "Real length of cleaned data: 9659 rows\n"
     ]
    }
   ],
   "source": [
    "android_clean = []\n",
    "already_added = []\n",
    "\n",
    "for app in googleplay_data[1:]:\n",
    "    name = app[0]\n",
    "    n_reviews = float(app[3])\n",
    "    if n_reviews == reviews_max[name] and name not in already_added:\n",
    "        android_clean.append(app)\n",
    "        already_added.append(name)\n",
    "    \n",
    "print('Expected length: 9659 rows')\n",
    "print('Real length of cleaned data:', len(android_clean), 'rows')\n",
    "    "
   ]
  },
  {
   "cell_type": "markdown",
   "metadata": {},
   "source": [
    "We have successfully removed the duplicate android apps."
   ]
  },
  {
   "cell_type": "markdown",
   "metadata": {},
   "source": [
    "###Part 3: Keeping only English apps\n",
    "\n",
    "Since we only want to work with English apps, we also want to remove any app that have non-English in its name, which are characterized by all its characters having an ASCII number of 127 and below.\n",
    "\n",
    "We will now create a function that checks if a string contains only English characters."
   ]
  },
  {
   "cell_type": "code",
   "execution_count": 125,
   "metadata": {
    "collapsed": true
   },
   "outputs": [],
   "source": [
    "def is_english(s):\n",
    "    for char in s:\n",
    "        if ord(char) > 127:\n",
    "            return False\n",
    "    return True\n",
    "    "
   ]
  },
  {
   "cell_type": "markdown",
   "metadata": {},
   "source": [
    "Let's check our function on a couple of strings:"
   ]
  },
  {
   "cell_type": "code",
   "execution_count": 126,
   "metadata": {},
   "outputs": [
    {
     "name": "stdout",
     "output_type": "stream",
     "text": [
      "True\n",
      "False\n",
      "False\n",
      "False\n"
     ]
    }
   ],
   "source": [
    "print(is_english('Instagram'))\n",
    "print(is_english('爱奇艺PPS -《欢乐颂2》电视剧热播'))\n",
    "print(is_english('Docs To Go™'))\n",
    "print(is_english('Instaboom 😜'))\n"
   ]
  },
  {
   "cell_type": "markdown",
   "metadata": {},
   "source": [
    "The function works, but we might want to keep English apps with characters like emojis or Trademarks, since they can be useful to our analysis. \n",
    "\n",
    "We will then modify the function to filter out app names that have more than 3 special characters that fall outside our ASCII range."
   ]
  },
  {
   "cell_type": "code",
   "execution_count": 127,
   "metadata": {},
   "outputs": [],
   "source": [
    "def is_english(s):\n",
    "    non_english_count = 0\n",
    "    for char in s:\n",
    "        if ord(char) > 127:\n",
    "            non_english_count += 1\n",
    "    if non_english_count > 3:\n",
    "        return False\n",
    "    else:\n",
    "        return True"
   ]
  },
  {
   "cell_type": "markdown",
   "metadata": {},
   "source": [
    "Let's check our new function on a couple of strings:"
   ]
  },
  {
   "cell_type": "code",
   "execution_count": 128,
   "metadata": {},
   "outputs": [
    {
     "name": "stdout",
     "output_type": "stream",
     "text": [
      "True\n",
      "False\n",
      "True\n",
      "True\n"
     ]
    }
   ],
   "source": [
    "print(is_english('Instagram'))\n",
    "print(is_english('爱奇艺PPS -《欢乐颂2》电视剧热播'))\n",
    "print(is_english('Docs To Go™'))\n",
    "print(is_english('Instaboom 😜'))"
   ]
  },
  {
   "cell_type": "markdown",
   "metadata": {},
   "source": [
    "We will now be able to keep more useful data from our set.\n",
    "\n",
    "Let's filter out the non-english apps from our apple and android datasets and create new lists with only english apps.\n",
    "\n",
    "Remember that our latest cleaned android data is named android_clean. As for the apple data, we'll use the initial applestore_data list."
   ]
  },
  {
   "cell_type": "code",
   "execution_count": 129,
   "metadata": {},
   "outputs": [
    {
     "name": "stdout",
     "output_type": "stream",
     "text": [
      "Number of english apps from Google Play Store: 9614\n",
      "Number of english apps from Apple Store: 6184\n"
     ]
    }
   ],
   "source": [
    "def filter_en(rough_data, clean_data, name_column):\n",
    "    for app in rough_data:\n",
    "        name = app[name_column]\n",
    "        if is_english(name):\n",
    "            clean_data.append(app)\n",
    "        \n",
    "    \n",
    "\n",
    "android_clean_en = []\n",
    "ios_clean_en = []\n",
    "\n",
    "filter_en(android_clean, android_clean_en, 0)\n",
    "filter_en(applestore_data, ios_clean_en, 1)\n",
    "\n",
    "print('Number of english apps from Google Play Store:', len(android_clean_en))\n",
    "print('Number of english apps from Apple Store:', len(ios_clean_en))      "
   ]
  },
  {
   "cell_type": "markdown",
   "metadata": {},
   "source": [
    "###Part 4: Keeping only free apps\n",
    "\n",
    "The last step from the cleaning process is to keep only free apps, since our fictional startup's source of revenue is in-app ads. In the rows of our Android data, the price is located at [7], in the Apple data it's located at [4]."
   ]
  },
  {
   "cell_type": "code",
   "execution_count": 130,
   "metadata": {},
   "outputs": [
    {
     "name": "stdout",
     "output_type": "stream",
     "text": [
      "Price\n",
      "price\n"
     ]
    }
   ],
   "source": [
    "print(googleplay_data[0][7])\n",
    "print(applestore_data[0][4])\n"
   ]
  },
  {
   "cell_type": "code",
   "execution_count": 131,
   "metadata": {},
   "outputs": [
    {
     "name": "stdout",
     "output_type": "stream",
     "text": [
      "Number of free english apps from Google Play Store: 8864\n",
      "Number of free english apps from Apple Store: 3222\n"
     ]
    }
   ],
   "source": [
    "android_free = []\n",
    "ios_free = []\n",
    "\n",
    "'''we did not create a function because of the\n",
    "string format of the price being different from one dataset to another'''\n",
    "for app in android_clean_en:\n",
    "    price = app[7]\n",
    "    if price == '0':\n",
    "        android_free.append(app)\n",
    "\n",
    "for app in ios_clean_en:\n",
    "    price = app[4]\n",
    "    if price == '0.0':\n",
    "        ios_free.append(app)\n",
    "        \n",
    "print('Number of free english apps from Google Play Store:', len(android_free))\n",
    "print('Number of free english apps from Apple Store:', len(ios_free))   "
   ]
  },
  {
   "cell_type": "markdown",
   "metadata": {},
   "source": [
    "8864 android apps and 3222 iOS apps are left for our analysis."
   ]
  },
  {
   "cell_type": "markdown",
   "metadata": {},
   "source": [
    "Let's rename more conveniently our final and clean datasets."
   ]
  },
  {
   "cell_type": "code",
   "execution_count": 132,
   "metadata": {
    "collapsed": true
   },
   "outputs": [],
   "source": [
    "android_data = android_free\n",
    "ios_data = ios_free"
   ]
  },
  {
   "cell_type": "markdown",
   "metadata": {},
   "source": [
    "##Analysis: Genre profiling"
   ]
  },
  {
   "cell_type": "markdown",
   "metadata": {},
   "source": [
    "Our fictional startup is looking to determine the kinds of apps that are profitable by its amount of users exposed to in-app ads, as previously mentioned.\n",
    "\n",
    "To minimize the workload and risk on the startup, the building process of an app would be this one:\n",
    "\n",
    "1.Build a minimal app and add it to Google Play\n",
    "2.If the app is successful, we develop it further.\n",
    "3.If it is still profitable after 6 months, we develop the iOS version and add it to the App Store.\n",
    "\n",
    "The end goal is to have our app run on both Android and iOS, so we will analyze each market.\n",
    "\n",
    "### Part 1: Analysing popular genres with number of apps\n",
    "Let's start by taking a look at the main genres in each app market.\n",
    "\n",
    "These are the names of the columns we'll use to generate our analysis of app profiles, taken from the original header of the dataset:"
   ]
  },
  {
   "cell_type": "code",
   "execution_count": 133,
   "metadata": {},
   "outputs": [
    {
     "name": "stdout",
     "output_type": "stream",
     "text": [
      "Interesting columns from Google Play data:\n",
      "Genres\n",
      "Category \n",
      "\n",
      "Interesting column from Apple Store data:\n",
      "prime_genre\n"
     ]
    }
   ],
   "source": [
    "print('Interesting columns from Google Play data:')\n",
    "print(googleplay_data[0][9])\n",
    "print(googleplay_data[0][1], '\\n')\n",
    "\n",
    "print('Interesting column from Apple Store data:')\n",
    "print(applestore_data[0][11])"
   ]
  },
  {
   "cell_type": "markdown",
   "metadata": {
    "collapsed": true
   },
   "source": [
    "The 'display_table()' function was given to us to help us in sorting a frequency table. It converts lists of lists in a list of tuples and then sorts it in descending order before printing it:"
   ]
  },
  {
   "cell_type": "code",
   "execution_count": 134,
   "metadata": {
    "collapsed": true
   },
   "outputs": [],
   "source": [
    "def display_table(dataset, index):\n",
    "    table = freq_table(dataset, index)\n",
    "    table_display = []\n",
    "    for key in table:\n",
    "        key_val_as_tuple = (table[key], key)\n",
    "        table_display.append(key_val_as_tuple)\n",
    "\n",
    "    table_sorted = sorted(table_display, reverse = True)\n",
    "    for entry in table_sorted:\n",
    "        print(entry[1], ':', entry[0])"
   ]
  },
  {
   "cell_type": "markdown",
   "metadata": {},
   "source": [
    "We'll now create the 'freq_table()' function, that takes a dataset and the index of a row and returns the frequency table for any column (indicated by the index)."
   ]
  },
  {
   "cell_type": "code",
   "execution_count": 135,
   "metadata": {
    "collapsed": true
   },
   "outputs": [],
   "source": [
    "def freq_table(dataset, index):\n",
    "    f_table = {}\n",
    "    total_items = len(dataset)\n",
    "    for row in dataset:\n",
    "        val = row[index]\n",
    "        if val in f_table:\n",
    "            f_table[val] += 1\n",
    "        else:\n",
    "            f_table[val] = 1\n",
    "    #transforming the table into percentages\n",
    "    for attribute in f_table:\n",
    "        f_table[attribute] = float(f_table[attribute]/total_items)\n",
    "    return f_table\n",
    "            "
   ]
  },
  {
   "cell_type": "markdown",
   "metadata": {},
   "source": [
    "Let's run our 'display_table()' function with the interesting columns from our datasets."
   ]
  },
  {
   "cell_type": "code",
   "execution_count": 136,
   "metadata": {},
   "outputs": [
    {
     "name": "stdout",
     "output_type": "stream",
     "text": [
      "Genres frequency table from Android:\n",
      "Tools : 0.08449909747292418\n",
      "Entertainment : 0.06069494584837545\n",
      "Education : 0.05347472924187725\n",
      "Business : 0.04591606498194946\n",
      "Productivity : 0.03892148014440433\n",
      "Lifestyle : 0.03892148014440433\n",
      "Finance : 0.03700361010830325\n",
      "Medical : 0.03531137184115524\n",
      "Sports : 0.03463447653429603\n",
      "Personalization : 0.03316787003610108\n",
      "Communication : 0.032378158844765345\n",
      "Action : 0.03102436823104693\n",
      "Health & Fitness : 0.030798736462093863\n",
      "Photography : 0.02944494584837545\n",
      "News & Magazines : 0.027978339350180504\n",
      "Social : 0.026624548736462094\n",
      "Travel & Local : 0.023240072202166066\n",
      "Shopping : 0.022450361010830325\n",
      "Books & Reference : 0.021435018050541516\n",
      "Simulation : 0.020419675090252706\n",
      "Dating : 0.01861462093862816\n",
      "Arcade : 0.018501805054151624\n",
      "Video Players & Editors : 0.017712093862815883\n",
      "Casual : 0.01759927797833935\n",
      "Maps & Navigation : 0.013989169675090252\n",
      "Food & Drink : 0.012409747292418772\n",
      "Puzzle : 0.01128158844765343\n",
      "Racing : 0.009927797833935019\n",
      "Role Playing : 0.009363718411552346\n",
      "Libraries & Demo : 0.009363718411552346\n",
      "Auto & Vehicles : 0.009250902527075812\n",
      "Strategy : 0.009138086642599278\n",
      "House & Home : 0.008235559566787004\n",
      "Weather : 0.008009927797833934\n",
      "Events : 0.007107400722021661\n",
      "Adventure : 0.006768953068592058\n",
      "Comics : 0.006092057761732852\n",
      "Beauty : 0.005979241877256318\n",
      "Art & Design : 0.005979241877256318\n",
      "Parenting : 0.004963898916967509\n",
      "Card : 0.004512635379061372\n",
      "Casino : 0.0042870036101083035\n",
      "Trivia : 0.004174187725631769\n",
      "Educational;Education : 0.0039485559566787\n",
      "Board : 0.003835740072202166\n",
      "Educational : 0.0037229241877256318\n",
      "Education;Education : 0.003384476534296029\n",
      "Word : 0.002594765342960289\n",
      "Casual;Pretend Play : 0.00236913357400722\n",
      "Music : 0.002030685920577617\n",
      "Racing;Action & Adventure : 0.0016922382671480144\n",
      "Puzzle;Brain Games : 0.0016922382671480144\n",
      "Entertainment;Music & Video : 0.0016922382671480144\n",
      "Casual;Brain Games : 0.0013537906137184115\n",
      "Casual;Action & Adventure : 0.0013537906137184115\n",
      "Arcade;Action & Adventure : 0.0012409747292418773\n",
      "Action;Action & Adventure : 0.0010153429602888086\n",
      "Educational;Pretend Play : 0.0009025270758122744\n",
      "Simulation;Action & Adventure : 0.00078971119133574\n",
      "Parenting;Education : 0.00078971119133574\n",
      "Entertainment;Brain Games : 0.00078971119133574\n",
      "Board;Brain Games : 0.00078971119133574\n",
      "Parenting;Music & Video : 0.0006768953068592057\n",
      "Educational;Brain Games : 0.0006768953068592057\n",
      "Casual;Creativity : 0.0006768953068592057\n",
      "Art & Design;Creativity : 0.0006768953068592057\n",
      "Education;Pretend Play : 0.0005640794223826715\n",
      "Role Playing;Pretend Play : 0.0004512635379061372\n",
      "Education;Creativity : 0.0004512635379061372\n",
      "Role Playing;Action & Adventure : 0.0003384476534296029\n",
      "Puzzle;Action & Adventure : 0.0003384476534296029\n",
      "Entertainment;Creativity : 0.0003384476534296029\n",
      "Entertainment;Action & Adventure : 0.0003384476534296029\n",
      "Educational;Creativity : 0.0003384476534296029\n",
      "Educational;Action & Adventure : 0.0003384476534296029\n",
      "Education;Music & Video : 0.0003384476534296029\n",
      "Education;Brain Games : 0.0003384476534296029\n",
      "Education;Action & Adventure : 0.0003384476534296029\n",
      "Adventure;Action & Adventure : 0.0003384476534296029\n",
      "Video Players & Editors;Music & Video : 0.0002256317689530686\n",
      "Sports;Action & Adventure : 0.0002256317689530686\n",
      "Simulation;Pretend Play : 0.0002256317689530686\n",
      "Puzzle;Creativity : 0.0002256317689530686\n",
      "Music;Music & Video : 0.0002256317689530686\n",
      "Entertainment;Pretend Play : 0.0002256317689530686\n",
      "Casual;Education : 0.0002256317689530686\n",
      "Board;Action & Adventure : 0.0002256317689530686\n",
      "Video Players & Editors;Creativity : 0.0001128158844765343\n",
      "Trivia;Education : 0.0001128158844765343\n",
      "Travel & Local;Action & Adventure : 0.0001128158844765343\n",
      "Tools;Education : 0.0001128158844765343\n",
      "Strategy;Education : 0.0001128158844765343\n",
      "Strategy;Creativity : 0.0001128158844765343\n",
      "Strategy;Action & Adventure : 0.0001128158844765343\n",
      "Simulation;Education : 0.0001128158844765343\n",
      "Role Playing;Brain Games : 0.0001128158844765343\n",
      "Racing;Pretend Play : 0.0001128158844765343\n",
      "Puzzle;Education : 0.0001128158844765343\n",
      "Parenting;Brain Games : 0.0001128158844765343\n",
      "Music & Audio;Music & Video : 0.0001128158844765343\n",
      "Lifestyle;Pretend Play : 0.0001128158844765343\n",
      "Lifestyle;Education : 0.0001128158844765343\n",
      "Health & Fitness;Education : 0.0001128158844765343\n",
      "Health & Fitness;Action & Adventure : 0.0001128158844765343\n",
      "Entertainment;Education : 0.0001128158844765343\n",
      "Communication;Creativity : 0.0001128158844765343\n",
      "Comics;Creativity : 0.0001128158844765343\n",
      "Casual;Music & Video : 0.0001128158844765343\n",
      "Card;Action & Adventure : 0.0001128158844765343\n",
      "Books & Reference;Education : 0.0001128158844765343\n",
      "Art & Design;Pretend Play : 0.0001128158844765343\n",
      "Art & Design;Action & Adventure : 0.0001128158844765343\n",
      "Arcade;Pretend Play : 0.0001128158844765343\n",
      "Adventure;Education : 0.0001128158844765343\n",
      "\n",
      "Category frequency table from Android:\n",
      "FAMILY : 0.18907942238267147\n",
      "GAME : 0.09724729241877256\n",
      "TOOLS : 0.08461191335740072\n",
      "BUSINESS : 0.04591606498194946\n",
      "LIFESTYLE : 0.039034296028880866\n",
      "PRODUCTIVITY : 0.03892148014440433\n",
      "FINANCE : 0.03700361010830325\n",
      "MEDICAL : 0.03531137184115524\n",
      "SPORTS : 0.03395758122743682\n",
      "PERSONALIZATION : 0.03316787003610108\n",
      "COMMUNICATION : 0.032378158844765345\n",
      "HEALTH_AND_FITNESS : 0.030798736462093863\n",
      "PHOTOGRAPHY : 0.02944494584837545\n",
      "NEWS_AND_MAGAZINES : 0.027978339350180504\n",
      "SOCIAL : 0.026624548736462094\n",
      "TRAVEL_AND_LOCAL : 0.023352888086642598\n",
      "SHOPPING : 0.022450361010830325\n",
      "BOOKS_AND_REFERENCE : 0.021435018050541516\n",
      "DATING : 0.01861462093862816\n",
      "VIDEO_PLAYERS : 0.017937725631768955\n",
      "MAPS_AND_NAVIGATION : 0.013989169675090252\n",
      "FOOD_AND_DRINK : 0.012409747292418772\n",
      "EDUCATION : 0.011620036101083033\n",
      "ENTERTAINMENT : 0.009589350180505414\n",
      "LIBRARIES_AND_DEMO : 0.009363718411552346\n",
      "AUTO_AND_VEHICLES : 0.009250902527075812\n",
      "HOUSE_AND_HOME : 0.008235559566787004\n",
      "WEATHER : 0.008009927797833934\n",
      "EVENTS : 0.007107400722021661\n",
      "PARENTING : 0.006543321299638989\n",
      "ART_AND_DESIGN : 0.006430505415162455\n",
      "COMICS : 0.006204873646209386\n",
      "BEAUTY : 0.005979241877256318\n",
      "\n",
      "prime_genre frequency table from iOS:\n",
      "Games : 0.5816263190564867\n",
      "Entertainment : 0.07883302296710118\n",
      "Photo & Video : 0.04965859714463067\n",
      "Education : 0.03662321539416512\n",
      "Social Networking : 0.032898820608317815\n",
      "Shopping : 0.0260707635009311\n",
      "Utilities : 0.025139664804469275\n",
      "Sports : 0.021415270018621976\n",
      "Music : 0.020484171322160148\n",
      "Health & Fitness : 0.020173805090006207\n",
      "Productivity : 0.01738050900062073\n",
      "Lifestyle : 0.015828677839851025\n",
      "News : 0.01334574798261949\n",
      "Travel : 0.012414649286157667\n",
      "Finance : 0.0111731843575419\n",
      "Weather : 0.008690254500310366\n",
      "Food & Drink : 0.008069522036002483\n",
      "Reference : 0.00558659217877095\n",
      "Business : 0.005276225946617008\n",
      "Book : 0.004345127250155183\n",
      "Navigation : 0.00186219739292365\n",
      "Medical : 0.00186219739292365\n",
      "Catalogs : 0.0012414649286157666\n"
     ]
    }
   ],
   "source": [
    "print('Genres frequency table from Android:')\n",
    "display_table(android_data, 9)\n",
    "print('\\nCategory frequency table from Android:')\n",
    "display_table(android_data, 1)\n",
    "print('\\nprime_genre frequency table from iOS:')\n",
    "display_table(ios_data, 11)"
   ]
  },
  {
   "cell_type": "markdown",
   "metadata": {},
   "source": [
    "Analysis of Genres and Category in Android free english apps market:\n",
    "\n",
    "The Android app market most popular Genres are Tools, and then Entertainment, but both represent less than 10% of the market share. As for the Category of the apps, Family comes first with a little less than 19% of the market, as Game and Tools take second and third place as both have between 8 and 10% of the market share. These results show us that the android market is very balanced between apps serving practical and entertainment purposes.\n",
    "\n",
    "Analysis of prime genre in iOS free english apps market:\n",
    "\n",
    "The results of the prime genre of apps in the iOS market shows a domination of Games applications, as they represent more than 58% of total english free apps. Entertainment comes second. The iOS market is clearly populated by apps with an amusement purpose."
   ]
  },
  {
   "cell_type": "markdown",
   "metadata": {},
   "source": [
    "###Part 2: Analysing popular of genres by number of users and ratings\n",
    "\n",
    "To have a better idea of what popular apps genres are, we'll look at the number of users in the Android market (Installs), and for the iOS market, we'll look at the number of ratings (rating_count_tot) because the number of users isn't present in this dataset. Let's look at the latter first."
   ]
  },
  {
   "cell_type": "markdown",
   "metadata": {},
   "source": [
    "####iOS"
   ]
  },
  {
   "cell_type": "code",
   "execution_count": 137,
   "metadata": {},
   "outputs": [
    {
     "name": "stdout",
     "output_type": "stream",
     "text": [
      "Average number of user ratings by genre in iOS market:\n",
      "Education: 7003.983050847458\n",
      "Travel: 28243.8\n",
      "News: 21248.023255813954\n",
      "Utilities: 18684.456790123455\n",
      "Food & Drink: 33333.92307692308\n",
      "Entertainment: 14029.830708661417\n",
      "Productivity: 21028.410714285714\n",
      "Shopping: 26919.690476190477\n",
      "Reference: 74942.11111111111\n",
      "Lifestyle: 16485.764705882353\n",
      "Sports: 23008.898550724636\n",
      "Medical: 612.0\n",
      "Games: 22788.6696905016\n",
      "Navigation: 86090.33333333333\n",
      "Weather: 52279.892857142855\n",
      "Catalogs: 4004.0\n",
      "Social Networking: 71548.34905660378\n",
      "Book: 39758.5\n",
      "Photo & Video: 28441.54375\n",
      "Business: 7491.117647058823\n",
      "Health & Fitness: 23298.015384615384\n",
      "Finance: 31467.944444444445\n",
      "Music: 57326.530303030304\n"
     ]
    }
   ],
   "source": [
    "#Calculating average number of user ratings by genre in iOS market\n",
    "genre_table = freq_table(ios_data, 11)\n",
    "\n",
    "print('Average number of user ratings by genre in iOS market:')\n",
    "for genre in genre_table:\n",
    "    total_ratings = 0\n",
    "    len_genre = 0\n",
    "    \n",
    "    for app in ios_data:\n",
    "        genre_app = app[11]\n",
    "        if genre_app == genre:\n",
    "            ratings = float(app[5])\n",
    "            total_ratings += ratings\n",
    "            len_genre += 1\n",
    "    \n",
    "    avg_ratings = total_ratings / len_genre\n",
    "    print(genre + ':', avg_ratings)\n",
    "            "
   ]
  },
  {
   "cell_type": "markdown",
   "metadata": {},
   "source": [
    "Analysis of iOS average number of ratings by genre: \n",
    "\n",
    "Navigation, Reference, Social Networking, Music all generate a lot of reviews for their average app. Education, Catalogs and Medical stand out as having less than a 10000 reviews on average. All other genres have a decent amount of reviews and a good app of one of those could be viable if we refer to this metric."
   ]
  },
  {
   "cell_type": "markdown",
   "metadata": {
    "collapsed": true
   },
   "source": [
    "####iOS App Profile Recommendation: \n",
    "Based on our study of the iOS market for free apps in english, we would recommend developing a Food and Drink app, which could take the form of digital recipe book, and includes ratings, reviews and reactions by the community. This genre of app represents less than 1% of the market, but they generate on average more than 30000 ratings, which demonstrates a good response from the users. If we can add the very popular interracting side of Social Networking apps to it, we believe one such app could be a success on the Apple market. "
   ]
  },
  {
   "cell_type": "markdown",
   "metadata": {
    "collapsed": true
   },
   "source": [
    "####Android\n",
    "\n",
    "The install numbers from the android dataset aren't precise, but we'll consider that an app in the 100,000+ range has 100000 installs, as this will give us a rough idea of the number of installs of an app of a given genre. We will use the Category column, as the categories are more clearly defined than genres."
   ]
  },
  {
   "cell_type": "code",
   "execution_count": 138,
   "metadata": {},
   "outputs": [
    {
     "name": "stdout",
     "output_type": "stream",
     "text": [
      "1,000,000+ : 0.1572653429602888\n",
      "100,000+ : 0.11552346570397112\n",
      "10,000,000+ : 0.10548285198555957\n",
      "10,000+ : 0.10198555956678701\n",
      "1,000+ : 0.08393501805054152\n",
      "100+ : 0.06915613718411552\n",
      "5,000,000+ : 0.06825361010830325\n",
      "500,000+ : 0.05561823104693141\n",
      "50,000+ : 0.047721119133574005\n",
      "5,000+ : 0.04512635379061372\n",
      "10+ : 0.035424187725631766\n",
      "500+ : 0.032490974729241874\n",
      "50,000,000+ : 0.023014440433212997\n",
      "100,000,000+ : 0.021322202166064983\n",
      "50+ : 0.01917870036101083\n",
      "5+ : 0.0078971119133574\n",
      "1+ : 0.0050767148014440435\n",
      "500,000,000+ : 0.002707581227436823\n",
      "1,000,000,000+ : 0.002256317689530686\n",
      "0+ : 0.0004512635379061372\n",
      "0 : 0.0001128158844765343\n"
     ]
    }
   ],
   "source": [
    "#imprecise numbers of installs\n",
    "display_table(android_data, 5)"
   ]
  },
  {
   "cell_type": "code",
   "execution_count": 140,
   "metadata": {},
   "outputs": [
    {
     "name": "stdout",
     "output_type": "stream",
     "text": [
      "Average number of installs by category in Android market:\n",
      "BEAUTY: 513151.88679245283\n",
      "HEALTH_AND_FITNESS: 4188821.9853479853\n",
      "COMMUNICATION: 38456119.167247385\n",
      "MAPS_AND_NAVIGATION: 4056941.7741935486\n",
      "NEWS_AND_MAGAZINES: 9549178.467741935\n",
      "SPORTS: 3638640.1428571427\n",
      "SOCIAL: 23253652.127118643\n",
      "PHOTOGRAPHY: 17840110.40229885\n",
      "FINANCE: 1387692.475609756\n",
      "BOOKS_AND_REFERENCE: 8767811.894736841\n",
      "LIFESTYLE: 1437816.2687861272\n",
      "FAMILY: 3695641.8198090694\n",
      "GAME: 15588015.603248259\n",
      "ART_AND_DESIGN: 1986335.0877192982\n",
      "COMICS: 817657.2727272727\n",
      "HOUSE_AND_HOME: 1331540.5616438356\n",
      "VIDEO_PLAYERS: 24727872.452830188\n",
      "SHOPPING: 7036877.311557789\n",
      "TOOLS: 10801391.298666667\n",
      "MEDICAL: 120550.61980830671\n",
      "EDUCATION: 1833495.145631068\n",
      "AUTO_AND_VEHICLES: 647317.8170731707\n",
      "PERSONALIZATION: 5201482.6122448975\n",
      "FOOD_AND_DRINK: 1924897.7363636363\n",
      "TRAVEL_AND_LOCAL: 13984077.710144928\n",
      "EVENTS: 253542.22222222222\n",
      "LIBRARIES_AND_DEMO: 638503.734939759\n",
      "PARENTING: 542603.6206896552\n",
      "ENTERTAINMENT: 11640705.88235294\n",
      "DATING: 854028.8303030303\n",
      "WEATHER: 5074486.197183099\n",
      "BUSINESS: 1712290.1474201474\n",
      "PRODUCTIVITY: 16787331.344927534\n"
     ]
    }
   ],
   "source": [
    "#Calculating average number of installs by category in Android market\n",
    "category_table = freq_table(android_data, 1)\n",
    "\n",
    "print('Average number of installs by category in Android market:')\n",
    "for category in category_table:\n",
    "    total_installs = 0\n",
    "    len_category = 0\n",
    "    \n",
    "    for app in android_data:\n",
    "        category_app = app[1]\n",
    "        if category_app == category:\n",
    "            installs = app[5]\n",
    "            installs = installs.replace('+', '')\n",
    "            installs = installs.replace(',', '')\n",
    "            installs = float(installs)\n",
    "            total_installs += installs\n",
    "            len_category += 1\n",
    "    \n",
    "    avg_installs = total_installs / len_category\n",
    "    print(category + ':', avg_installs)"
   ]
  },
  {
   "cell_type": "markdown",
   "metadata": {},
   "source": [
    "Let's see the categories that generate an average of over 8M installs per app:"
   ]
  },
  {
   "cell_type": "code",
   "execution_count": 141,
   "metadata": {},
   "outputs": [
    {
     "name": "stdout",
     "output_type": "stream",
     "text": [
      "Average number of installs by category in Android market:\n",
      "COMMUNICATION: 38456119.167247385\n",
      "SOCIAL: 23253652.127118643\n",
      "PHOTOGRAPHY: 17840110.40229885\n",
      "GAME: 15588015.603248259\n",
      "VIDEO_PLAYERS: 24727872.452830188\n",
      "TOOLS: 10801391.298666667\n",
      "TRAVEL_AND_LOCAL: 13984077.710144928\n",
      "ENTERTAINMENT: 11640705.88235294\n",
      "PRODUCTIVITY: 16787331.344927534\n"
     ]
    }
   ],
   "source": [
    "#Calculating average number of installs by category in Android market\n",
    "category_table = freq_table(android_data, 1)\n",
    "\n",
    "print('Average number of installs by category in Android market (10M+):')\n",
    "for category in category_table:\n",
    "    total_installs = 0\n",
    "    len_category = 0\n",
    "    \n",
    "    for app in android_data:\n",
    "        category_app = app[1]\n",
    "        if category_app == category:\n",
    "            installs = app[5]\n",
    "            installs = installs.replace('+', '')\n",
    "            installs = installs.replace(',', '')\n",
    "            installs = float(installs)\n",
    "            total_installs += installs\n",
    "            len_category += 1\n",
    "    \n",
    "    avg_installs = total_installs / len_category\n",
    "    if avg_installs > 10000000:\n",
    "        print(category + ':', avg_installs)"
   ]
  },
  {
   "cell_type": "markdown",
   "metadata": {},
   "source": [
    "Analysis of Android average number of installs by category: \n",
    "\n",
    "The popular categories above offer great potential for a future app. Since no category is overly exploited in the Google Play Store, we could go of many directions here. We know that communication and social apps are dominated by giants of the industry. The travel and local category is interesting because of the worldwide reach it can have and possible partnerships with foreign advertisers."
   ]
  },
  {
   "cell_type": "markdown",
   "metadata": {},
   "source": [
    "###Final app recommendation\n",
    "\n",
    "After studying the free english apps of the two major markets, we spotted a good oppurtunity for a Food and Drink app on iOS and for a Travel app on Android. We also would like to take advantage of the interest for social interraction within applications. Because we want to build a profitable app for both markets here's what we recommend to have a great chance at success:\n",
    "\n",
    "A worldwide foodie app that connects the user with the nearby food markets and restaurants and provides him or her with reviews and insights from the community. 'Cook your meal' and 'Go out for a meal' could be the two sections of this app, and advertising revenue would come from the restaurants, cafes, markets, pubs and bars that want to be starred in our app."
   ]
  }
 ],
 "metadata": {
  "kernelspec": {
   "display_name": "Python 3",
   "language": "python",
   "name": "python3"
  },
  "language_info": {
   "codemirror_mode": {
    "name": "ipython",
    "version": 3
   },
   "file_extension": ".py",
   "mimetype": "text/x-python",
   "name": "python",
   "nbconvert_exporter": "python",
   "pygments_lexer": "ipython3",
   "version": "3.7.3"
  }
 },
 "nbformat": 4,
 "nbformat_minor": 2
}
