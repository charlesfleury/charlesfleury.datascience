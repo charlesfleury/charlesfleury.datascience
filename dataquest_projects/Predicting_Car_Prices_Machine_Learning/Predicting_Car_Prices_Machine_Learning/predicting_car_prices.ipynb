{
 "cells": [
  {
   "cell_type": "markdown",
   "metadata": {},
   "source": [
    "#Predicting Car Prices"
   ]
  },
  {
   "cell_type": "markdown",
   "metadata": {},
   "source": [
    "###by Charles Fleury, guided by a project from Dataquest"
   ]
  },
  {
   "cell_type": "markdown",
   "metadata": {},
   "source": [
    "In this project, I use a [dataset](https://archive.ics.uci.edu/ml/machine-learning-databases/autos/imports-85.data) of technical aspects of cars in 1985 to predict their price using machine learning and more precisely the k-nearest neighbors model. The documentation of the dataset can be found [here](https://archive.ics.uci.edu/ml/datasets/automobile).\n",
    "\n",
    "After importing our main libraries, we'll add the missing column names to the dataset, based on the documentation."
   ]
  },
  {
   "cell_type": "code",
   "execution_count": 1,
   "metadata": {
    "collapsed": true
   },
   "outputs": [],
   "source": [
    "import pandas as pd\n",
    "import numpy as np"
   ]
  },
  {
   "cell_type": "code",
   "execution_count": 2,
   "metadata": {
    "collapsed": false
   },
   "outputs": [
    {
     "name": "stdout",
     "output_type": "stream",
     "text": [
      "   symboling normalized_losses         make fuel_type aspiration num_doors  \\\n",
      "0          3                 ?  alfa-romero       gas        std       two   \n",
      "1          1                 ?  alfa-romero       gas        std       two   \n",
      "2          2               164         audi       gas        std      four   \n",
      "3          2               164         audi       gas        std      four   \n",
      "4          2                 ?         audi       gas        std       two   \n",
      "\n",
      "    body_style drive_wheels engine_location  wheel_base  ...    engine_size  \\\n",
      "0  convertible          rwd           front        88.6  ...            130   \n",
      "1    hatchback          rwd           front        94.5  ...            152   \n",
      "2        sedan          fwd           front        99.8  ...            109   \n",
      "3        sedan          4wd           front        99.4  ...            136   \n",
      "4        sedan          fwd           front        99.8  ...            136   \n",
      "\n",
      "   fuel_system  bore  stroke compression_ratio horsepower  peak_rpm city_mpg  \\\n",
      "0         mpfi  3.47    2.68               9.0        111      5000       21   \n",
      "1         mpfi  2.68    3.47               9.0        154      5000       19   \n",
      "2         mpfi  3.19    3.40              10.0        102      5500       24   \n",
      "3         mpfi  3.19    3.40               8.0        115      5500       18   \n",
      "4         mpfi  3.19    3.40               8.5        110      5500       19   \n",
      "\n",
      "  highway_mpg  price  \n",
      "0          27  16500  \n",
      "1          26  16500  \n",
      "2          30  13950  \n",
      "3          22  17450  \n",
      "4          25  15250  \n",
      "\n",
      "[5 rows x 26 columns]\n"
     ]
    }
   ],
   "source": [
    "column_names = [\"symboling\", \"normalized_losses\", \"make\", \"fuel_type\", \"aspiration\", \"num_doors\", \"body_style\", \"drive_wheels\", \"engine_location\", \"wheel_base\", \"length\", \"width\", \"height\", \"curb_weight\", \"engine_type\", \"num_cylinders\", \"engine_size\", \"fuel_system\", \"bore\", \"stroke\", \"compression_ratio\", \"horsepower\", \"peak_rpm\", \"city_mpg\", \"highway_mpg\", \"price\"]\n",
    "cars = pd.read_csv(\"imports-85.data\", header=0, names=column_names)\n",
    "print(cars.head())"
   ]
  },
  {
   "cell_type": "markdown",
   "metadata": {},
   "source": [
    "##Data cleaning\n",
    "\n",
    "First, we can see that some values are noted \"?\". We'll start by changing these values to null."
   ]
  },
  {
   "cell_type": "code",
   "execution_count": 3,
   "metadata": {
    "collapsed": false
   },
   "outputs": [
    {
     "name": "stdout",
     "output_type": "stream",
     "text": [
      "   symboling normalized_losses         make fuel_type aspiration num_doors  \\\n",
      "0          3               NaN  alfa-romero       gas        std       two   \n",
      "1          1               NaN  alfa-romero       gas        std       two   \n",
      "2          2               164         audi       gas        std      four   \n",
      "3          2               164         audi       gas        std      four   \n",
      "4          2               NaN         audi       gas        std       two   \n",
      "\n",
      "    body_style drive_wheels engine_location  wheel_base  ...    engine_size  \\\n",
      "0  convertible          rwd           front        88.6  ...            130   \n",
      "1    hatchback          rwd           front        94.5  ...            152   \n",
      "2        sedan          fwd           front        99.8  ...            109   \n",
      "3        sedan          4wd           front        99.4  ...            136   \n",
      "4        sedan          fwd           front        99.8  ...            136   \n",
      "\n",
      "   fuel_system  bore  stroke compression_ratio horsepower  peak_rpm city_mpg  \\\n",
      "0         mpfi  3.47    2.68               9.0        111      5000       21   \n",
      "1         mpfi  2.68    3.47               9.0        154      5000       19   \n",
      "2         mpfi  3.19    3.40              10.0        102      5500       24   \n",
      "3         mpfi  3.19    3.40               8.0        115      5500       18   \n",
      "4         mpfi  3.19    3.40               8.5        110      5500       19   \n",
      "\n",
      "  highway_mpg  price  \n",
      "0          27  16500  \n",
      "1          26  16500  \n",
      "2          30  13950  \n",
      "3          22  17450  \n",
      "4          25  15250  \n",
      "\n",
      "[5 rows x 26 columns]\n",
      "<class 'pandas.core.frame.DataFrame'>\n",
      "RangeIndex: 204 entries, 0 to 203\n",
      "Data columns (total 26 columns):\n",
      "symboling            204 non-null int64\n",
      "normalized_losses    164 non-null object\n",
      "make                 204 non-null object\n",
      "fuel_type            204 non-null object\n",
      "aspiration           204 non-null object\n",
      "num_doors            202 non-null object\n",
      "body_style           204 non-null object\n",
      "drive_wheels         204 non-null object\n",
      "engine_location      204 non-null object\n",
      "wheel_base           204 non-null float64\n",
      "length               204 non-null float64\n",
      "width                204 non-null float64\n",
      "height               204 non-null float64\n",
      "curb_weight          204 non-null int64\n",
      "engine_type          204 non-null object\n",
      "num_cylinders        204 non-null object\n",
      "engine_size          204 non-null int64\n",
      "fuel_system          204 non-null object\n",
      "bore                 200 non-null object\n",
      "stroke               200 non-null object\n",
      "compression_ratio    204 non-null float64\n",
      "horsepower           202 non-null object\n",
      "peak_rpm             202 non-null object\n",
      "city_mpg             204 non-null int64\n",
      "highway_mpg          204 non-null int64\n",
      "price                200 non-null object\n",
      "dtypes: float64(5), int64(5), object(16)\n",
      "memory usage: 41.5+ KB\n",
      "None\n"
     ]
    }
   ],
   "source": [
    "cars = cars.replace(\"?\", np.nan)\n",
    "print(cars.head())\n",
    "print(cars.info())"
   ]
  },
  {
   "cell_type": "code",
   "execution_count": 4,
   "metadata": {
    "collapsed": false
   },
   "outputs": [
    {
     "name": "stdout",
     "output_type": "stream",
     "text": [
      "40\n"
     ]
    }
   ],
   "source": [
    "print(cars[\"normalized_losses\"].isnull().sum())"
   ]
  },
  {
   "cell_type": "markdown",
   "metadata": {
    "collapsed": true
   },
   "source": [
    "We can see that the \"normalized_losses\" column has 40 null values out of 204 entries. This column is a measure of the loss payment made by the insurance company when a each type of car is damaged. Because this column depends more of the amount of damage in the collected data than the type of car itself, we will drop this column entirely."
   ]
  },
  {
   "cell_type": "markdown",
   "metadata": {
    "collapsed": true
   },
   "source": [
    "Some columns labelled as \"object\" are really numerical and we need to decide if they're going to be useful. Some of the columns like \"num_doors\" and \"num_cylinders\" represent numbers, but are written in text. We will convert these two columns to numbers, starting by identifying the text values to transform."
   ]
  },
  {
   "cell_type": "code",
   "execution_count": 5,
   "metadata": {
    "collapsed": false
   },
   "outputs": [
    {
     "name": "stdout",
     "output_type": "stream",
     "text": [
      "four    114\n",
      "two      88\n",
      "Name: num_doors, dtype: int64\n",
      "four      158\n",
      "six        24\n",
      "five       11\n",
      "eight       5\n",
      "two         4\n",
      "three       1\n",
      "twelve      1\n",
      "Name: num_cylinders, dtype: int64\n"
     ]
    }
   ],
   "source": [
    "print(cars[\"num_doors\"].value_counts())\n",
    "print(cars[\"num_cylinders\"].value_counts())"
   ]
  },
  {
   "cell_type": "code",
   "execution_count": 6,
   "metadata": {
    "collapsed": false
   },
   "outputs": [
    {
     "name": "stdout",
     "output_type": "stream",
     "text": [
      "4.0    114\n",
      "2.0     88\n",
      "Name: num_doors, dtype: int64\n",
      "4     158\n",
      "6      24\n",
      "5      11\n",
      "8       5\n",
      "2       4\n",
      "12      1\n",
      "3       1\n",
      "Name: num_cylinders, dtype: int64\n"
     ]
    }
   ],
   "source": [
    "cars = cars.replace({\"two\": 2, \"three\": 3, \"four\": 4, \"five\": 5, \"six\": 6, \"eight\": 8, \"twelve\": 12})\n",
    "print(cars[\"num_doors\"].value_counts())\n",
    "print(cars[\"num_cylinders\"].value_counts())"
   ]
  },
  {
   "cell_type": "markdown",
   "metadata": {},
   "source": [
    "Other columns are labelled as \"object\" but should be numerical. We will change their value type to float."
   ]
  },
  {
   "cell_type": "code",
   "execution_count": 7,
   "metadata": {
    "collapsed": false
   },
   "outputs": [
    {
     "name": "stdout",
     "output_type": "stream",
     "text": [
      "<class 'pandas.core.frame.DataFrame'>\n",
      "RangeIndex: 204 entries, 0 to 203\n",
      "Data columns (total 26 columns):\n",
      "symboling            204 non-null int64\n",
      "normalized_losses    164 non-null object\n",
      "make                 204 non-null object\n",
      "fuel_type            204 non-null object\n",
      "aspiration           204 non-null object\n",
      "num_doors            202 non-null float64\n",
      "body_style           204 non-null object\n",
      "drive_wheels         204 non-null object\n",
      "engine_location      204 non-null object\n",
      "wheel_base           204 non-null float64\n",
      "length               204 non-null float64\n",
      "width                204 non-null float64\n",
      "height               204 non-null float64\n",
      "curb_weight          204 non-null int64\n",
      "engine_type          204 non-null object\n",
      "num_cylinders        204 non-null int64\n",
      "engine_size          204 non-null int64\n",
      "fuel_system          204 non-null object\n",
      "bore                 200 non-null float64\n",
      "stroke               200 non-null float64\n",
      "compression_ratio    204 non-null float64\n",
      "horsepower           202 non-null float64\n",
      "peak_rpm             202 non-null float64\n",
      "city_mpg             204 non-null int64\n",
      "highway_mpg          204 non-null int64\n",
      "price                200 non-null float64\n",
      "dtypes: float64(11), int64(6), object(9)\n",
      "memory usage: 41.5+ KB\n",
      "None\n"
     ]
    }
   ],
   "source": [
    "col_to_float = [\"price\", \"peak_rpm\", \"horsepower\", \"bore\", \"stroke\"]\n",
    "cars[col_to_float] = cars[col_to_float].astype(\"float\")\n",
    "print(cars.info())"
   ]
  },
  {
   "cell_type": "markdown",
   "metadata": {
    "collapsed": true
   },
   "source": [
    "Now let's finally drop all the columns we kept as \"object\", including the \"normalized_losses\" column."
   ]
  },
  {
   "cell_type": "code",
   "execution_count": 8,
   "metadata": {
    "collapsed": false
   },
   "outputs": [
    {
     "name": "stdout",
     "output_type": "stream",
     "text": [
      "<class 'pandas.core.frame.DataFrame'>\n",
      "RangeIndex: 204 entries, 0 to 203\n",
      "Data columns (total 17 columns):\n",
      "symboling            204 non-null int64\n",
      "num_doors            202 non-null float64\n",
      "wheel_base           204 non-null float64\n",
      "length               204 non-null float64\n",
      "width                204 non-null float64\n",
      "height               204 non-null float64\n",
      "curb_weight          204 non-null int64\n",
      "num_cylinders        204 non-null int64\n",
      "engine_size          204 non-null int64\n",
      "bore                 200 non-null float64\n",
      "stroke               200 non-null float64\n",
      "compression_ratio    204 non-null float64\n",
      "horsepower           202 non-null float64\n",
      "peak_rpm             202 non-null float64\n",
      "city_mpg             204 non-null int64\n",
      "highway_mpg          204 non-null int64\n",
      "price                200 non-null float64\n",
      "dtypes: float64(11), int64(6)\n",
      "memory usage: 27.2 KB\n",
      "None\n"
     ]
    }
   ],
   "source": [
    "cars = cars.select_dtypes(exclude=['object'])\n",
    "print(cars.info())"
   ]
  },
  {
   "cell_type": "markdown",
   "metadata": {},
   "source": [
    "Now that we have kept our potentially interesting numerical columns, we can see that our target column, \"price\" has missing values. We will remove all rows that don't have a price."
   ]
  },
  {
   "cell_type": "code",
   "execution_count": 9,
   "metadata": {
    "collapsed": false
   },
   "outputs": [
    {
     "name": "stdout",
     "output_type": "stream",
     "text": [
      "<class 'pandas.core.frame.DataFrame'>\n",
      "Int64Index: 200 entries, 0 to 203\n",
      "Data columns (total 17 columns):\n",
      "symboling            200 non-null int64\n",
      "num_doors            198 non-null float64\n",
      "wheel_base           200 non-null float64\n",
      "length               200 non-null float64\n",
      "width                200 non-null float64\n",
      "height               200 non-null float64\n",
      "curb_weight          200 non-null int64\n",
      "num_cylinders        200 non-null int64\n",
      "engine_size          200 non-null int64\n",
      "bore                 196 non-null float64\n",
      "stroke               196 non-null float64\n",
      "compression_ratio    200 non-null float64\n",
      "horsepower           198 non-null float64\n",
      "peak_rpm             198 non-null float64\n",
      "city_mpg             200 non-null int64\n",
      "highway_mpg          200 non-null int64\n",
      "price                200 non-null float64\n",
      "dtypes: float64(11), int64(6)\n",
      "memory usage: 28.1 KB\n",
      "None\n"
     ]
    }
   ],
   "source": [
    "null_price = cars[\"price\"].isnull()\n",
    "cars = cars[~null_price]\n",
    "print(cars.info())"
   ]
  },
  {
   "cell_type": "markdown",
   "metadata": {},
   "source": [
    "Now all of colums have a valid \"price\". We still have 5 columns with missing values, but at most 4 missing values per column. Because we have a 200-row dataset, dropping the rows with missing values won't have too much effect on the quantity and overall quality our our data. We'll drop all rows with missing values."
   ]
  },
  {
   "cell_type": "code",
   "execution_count": 10,
   "metadata": {
    "collapsed": false
   },
   "outputs": [
    {
     "name": "stdout",
     "output_type": "stream",
     "text": [
      "<class 'pandas.core.frame.DataFrame'>\n",
      "Int64Index: 192 entries, 0 to 203\n",
      "Data columns (total 17 columns):\n",
      "symboling            192 non-null int64\n",
      "num_doors            192 non-null float64\n",
      "wheel_base           192 non-null float64\n",
      "length               192 non-null float64\n",
      "width                192 non-null float64\n",
      "height               192 non-null float64\n",
      "curb_weight          192 non-null int64\n",
      "num_cylinders        192 non-null int64\n",
      "engine_size          192 non-null int64\n",
      "bore                 192 non-null float64\n",
      "stroke               192 non-null float64\n",
      "compression_ratio    192 non-null float64\n",
      "horsepower           192 non-null float64\n",
      "peak_rpm             192 non-null float64\n",
      "city_mpg             192 non-null int64\n",
      "highway_mpg          192 non-null int64\n",
      "price                192 non-null float64\n",
      "dtypes: float64(11), int64(6)\n",
      "memory usage: 27.0 KB\n",
      "None\n"
     ]
    }
   ],
   "source": [
    "cars = cars[cars.isnull().sum(axis=1) == 0]\n",
    "print(cars.info())"
   ]
  },
  {
   "cell_type": "markdown",
   "metadata": {},
   "source": [
    "We now have 192 columns filled with numerical data. The last modification we will make to this original data is to normalize the numeric values from our feature columns from 0 to 1, while keeping a column of our original prices. We will also reset our indexes for them to range between 0 and 191."
   ]
  },
  {
   "cell_type": "code",
   "execution_count": 11,
   "metadata": {
    "collapsed": false
   },
   "outputs": [],
   "source": [
    "feature_cols = [x for x in cars]\n",
    "feature_cols.remove(\"price\")\n",
    "real_prices = cars[\"price\"]\n",
    "cars = (cars - cars.min()) / (cars.max()-cars.min())\n",
    "cars[\"price\"] = real_prices\n",
    "cars = cars.reset_index(drop=True)"
   ]
  },
  {
   "cell_type": "markdown",
   "metadata": {},
   "source": [
    "##Univariate k-nearest neighbors models"
   ]
  },
  {
   "cell_type": "markdown",
   "metadata": {},
   "source": [
    "Now that we're done cleaning our data, let's start by training a k-nearest neighbor model that uses only one feature to predict the price of a car. We will create a function that returns the root mean squared error (RMSE) of the predictions. It takes as parameters the feature column on which to train, the target column (the price), and our dataframe. Our function will split our dataset into two random training and testing subsets of equal quantity. It uses the default k number of neighbors, which is 5."
   ]
  },
  {
   "cell_type": "code",
   "execution_count": 12,
   "metadata": {
    "collapsed": false
   },
   "outputs": [],
   "source": [
    "from sklearn.neighbors import KNeighborsRegressor\n",
    "from sklearn.metrics import mean_squared_error\n",
    "def knn_train_test(train_col, target_col, df):\n",
    "    temp_df = df.copy()\n",
    "    np.random.seed(1)\n",
    "    temp_df = temp_df.loc[np.random.permutation(len(temp_df))]\n",
    "    train_df = temp_df.iloc[0: (len(temp_df)//2)]\n",
    "    test_df = temp_df.iloc[(len(temp_df)//2): ]\n",
    "    model = KNeighborsRegressor()\n",
    "    model.fit(train_df[[train_col]], train_df[target_col])\n",
    "    predictions = model.predict(test_df[[train_col]])\n",
    "    mse = mean_squared_error(test_df[target_col], predictions)\n",
    "    rmse = np.sqrt(mse)\n",
    "    return(rmse)"
   ]
  },
  {
   "cell_type": "markdown",
   "metadata": {},
   "source": [
    "Now let's test each feature with its own univariate model to see the ones that predict the price with the most accuracy (low rmse)."
   ]
  },
  {
   "cell_type": "code",
   "execution_count": 13,
   "metadata": {
    "collapsed": false
   },
   "outputs": [
    {
     "name": "stdout",
     "output_type": "stream",
     "text": [
      "[('engine_size', 2890.5270731880946), ('city_mpg', 3822.8737821936174), ('width', 4109.074396128241), ('curb_weight', 4253.830159495479), ('highway_mpg', 4258.137631005288), ('horsepower', 4655.209755925792), ('num_cylinders', 5859.44764397635), ('length', 6059.634133791962), ('wheel_base', 6209.8739122666575), ('compression_ratio', 6494.247858810647), ('bore', 7274.806929540008), ('height', 8022.0427864675885), ('stroke', 8305.331782856922), ('peak_rpm', 8353.950791167614), ('symboling', 8595.560053379304), ('num_doors', 8927.524746161913)]\n"
     ]
    }
   ],
   "source": [
    "univar_rmses = dict()\n",
    "for column in feature_cols:\n",
    "    univar_rmses[column] = knn_train_test(column, \"price\", cars)\n",
    "sorted_features_rmses = sorted(univar_rmses.items(), key=lambda item: item[1])\n",
    "print(sorted_features_rmses)"
   ]
  },
  {
   "cell_type": "markdown",
   "metadata": {},
   "source": [
    "Using 5 nearest neighbors, we can see that the three columns that performed the best to predict a car price are \"engine_size\", \"city_mpg\" and \"width\".\n",
    "\n",
    "Now we will see how the error changes when we modify the number of nearest neighbors. We will try this with a k value of 1, 3, 5, 7 and 9."
   ]
  },
  {
   "cell_type": "code",
   "execution_count": 14,
   "metadata": {
    "collapsed": false,
    "scrolled": true
   },
   "outputs": [
    {
     "data": {
      "text/plain": [
       "<matplotlib.text.Text at 0x7f321d5f4780>"
      ]
     },
     "execution_count": 14,
     "metadata": {},
     "output_type": "execute_result"
    },
    {
     "data": {
      "image/png": "[encoded data removed]",
      "text/plain": [
       "<matplotlib.figure.Figure at 0x7f32205994a8>"
      ]
     },
     "metadata": {},
     "output_type": "display_data"
    }
   ],
   "source": [
    "import matplotlib.pyplot as plt\n",
    "%matplotlib inline\n",
    "#we modify our function to take into account the k value\n",
    "def knn_train_test(train_col, target_col, df, k):\n",
    "    temp_df = df.copy()\n",
    "    np.random.seed(1)\n",
    "    temp_df = temp_df.loc[np.random.permutation(len(temp_df))]\n",
    "    train_df = temp_df.iloc[0: (len(temp_df)//2)]\n",
    "    test_df = temp_df.iloc[(len(temp_df)//2): ]\n",
    "    model = KNeighborsRegressor(n_neighbors = k)\n",
    "    model.fit(train_df[[train_col]], train_df[target_col])\n",
    "    predictions = model.predict(test_df[[train_col]])\n",
    "    mse = mean_squared_error(test_df[target_col], predictions)\n",
    "    rmse = np.sqrt(mse)\n",
    "    return(rmse)\n",
    "\n",
    "k_vals = [1, 3, 5, 7, 9]\n",
    "rmses = dict()\n",
    "for column in feature_cols:\n",
    "    col_rmses = dict()\n",
    "    for k in k_vals:\n",
    "        col_rmses[k] = knn_train_test(column, \"price\", cars, k)\n",
    "    rmses[column] = col_rmses\n",
    "    plt.scatter(list(col_rmses.keys()), list(col_rmses.values()))\n",
    "    \n",
    "plt.xlabel(\"k\")\n",
    "plt.ylabel(\"rmse\")"
   ]
  },
  {
   "cell_type": "markdown",
   "metadata": {},
   "source": [
    "Overall, the RMSEs seem relatively constant for the k values ranging from 3 to 9.\n",
    "\n",
    "Next, we will see which features have the lowest overall rmse over all these k values."
   ]
  },
  {
   "cell_type": "code",
   "execution_count": 15,
   "metadata": {
    "collapsed": false
   },
   "outputs": [
    {
     "name": "stdout",
     "output_type": "stream",
     "text": [
      "engine_size          3175.483033\n",
      "city_mpg             4067.817303\n",
      "highway_mpg          4529.384314\n",
      "width                4545.209688\n",
      "horsepower           4662.638877\n",
      "curb_weight          4677.979731\n",
      "length               6042.332678\n",
      "wheel_base           6171.881938\n",
      "num_cylinders        6235.465248\n",
      "compression_ratio    6738.323804\n",
      "bore                 7285.083402\n",
      "stroke               8269.469187\n",
      "peak_rpm             8768.077244\n",
      "symboling            8848.589647\n",
      "num_doors            8942.229713\n",
      "height               9073.977013\n",
      "dtype: float64\n"
     ]
    }
   ],
   "source": [
    "avg_rmses = dict()\n",
    "for k,v in rmses.items():\n",
    "    avg_rmses[k] = np.mean(list(v.values()))\n",
    "ser_avg_rmses = pd.Series(avg_rmses)\n",
    "sorted_avg_rmses = ser_avg_rmses.sort_values()\n",
    "print(sorted_avg_rmses)"
   ]
  },
  {
   "cell_type": "markdown",
   "metadata": {},
   "source": [
    "##Multivariate k-nearest neighbors models"
   ]
  },
  {
   "cell_type": "markdown",
   "metadata": {},
   "source": [
    "We will now use many features to train and test our machine learning models. We will use the best 2 to 6 features from the list above and see which model performs the best. For each number of features, we will calculate the average RMSE among from all the RMSEs when using every k value ranging from 3 to 9."
   ]
  },
  {
   "cell_type": "code",
   "execution_count": 16,
   "metadata": {
    "collapsed": false
   },
   "outputs": [
    {
     "name": "stdout",
     "output_type": "stream",
     "text": [
      "['engine_size', 'city_mpg', 'highway_mpg', 'width', 'horsepower', 'curb_weight', 'length', 'wheel_base', 'num_cylinders', 'compression_ratio', 'bore', 'stroke', 'peak_rpm', 'symboling', 'num_doors', 'height']\n"
     ]
    }
   ],
   "source": [
    "best_features = list(sorted_avg_rmses.keys())\n",
    "print(best_features)"
   ]
  },
  {
   "cell_type": "code",
   "execution_count": 17,
   "metadata": {
    "collapsed": false
   },
   "outputs": [
    {
     "name": "stdout",
     "output_type": "stream",
     "text": [
      "{2: 3182.319101698589, 3: 3348.2404365448892, 4: 3439.866516904499, 5: 3311.154588272336, 6: 3155.10583176089}\n"
     ]
    }
   ],
   "source": [
    "#we modify our function to take into account many feature columns and the avg rmse from k-values[3-9]\n",
    "def knn_train_test(train_cols, target_col, df):\n",
    "    \n",
    "    temp_df = df.copy()\n",
    "    \n",
    "    np.random.seed(1)\n",
    "    temp_df = temp_df.loc[np.random.permutation(len(temp_df))]\n",
    "    train_df = temp_df.iloc[0: (len(temp_df)//2)]\n",
    "    test_df = temp_df.iloc[(len(temp_df)//2): ]\n",
    "    \n",
    "    rmses = []\n",
    "    \n",
    "    #testing and training with 3 to 9 nearest neighbors\n",
    "    k_vals = [k for k in range(3,10)]\n",
    "    for k in k_vals:\n",
    "        model = KNeighborsRegressor(n_neighbors = k)\n",
    "        model.fit(train_df[train_cols], train_df[target_col])\n",
    "        predictions = model.predict(test_df[train_cols])\n",
    "        mse = mean_squared_error(test_df[target_col], predictions)\n",
    "        rmse = np.sqrt(mse)\n",
    "        rmses.append(rmse)\n",
    "    \n",
    "    #averaging from all RMSEs\n",
    "    avg_rmse = np.mean(rmses)\n",
    "    return(avg_rmse)\n",
    "\n",
    "#finding the average rmse for various number of features\n",
    "nb_ftr_avg_rmse = dict()\n",
    "\n",
    "nb_features = [x for x in range(2,7)]\n",
    "for n in nb_features:\n",
    "    nb_ftr_avg_rmse[n] = knn_train_test(best_features[0:n], \"price\", cars)\n",
    "    \n",
    "print(nb_ftr_avg_rmse)\n",
    "    "
   ]
  },
  {
   "cell_type": "markdown",
   "metadata": {},
   "source": [
    "The three best models are the ones with 6, 2 and 5 of the previously ranked best features. Only the 6-feature model was able to beat the univariate model based on \"engine_size\". Because are models seem to be gaining precision with the 5th and 6th ranked features (horsepower and curb_weight), we will try models with our best feature \"engine_size\" and combinations of our 2nd ranked feature \"city_mpg\" and/or \"horsepower\" and/or \"curb_weight\"."
   ]
  },
  {
   "cell_type": "code",
   "execution_count": 18,
   "metadata": {
    "collapsed": false
   },
   "outputs": [
    {
     "name": "stdout",
     "output_type": "stream",
     "text": [
      "['engine_size', 'city_mpg', 'horsepower', 'curb_weight']\n",
      "3498.3354270029313\n",
      "['engine_size', 'city_mpg', 'horsepower']\n",
      "3249.3779408881123\n",
      "['engine_size', 'city_mpg', 'curb_weight']\n",
      "3515.321851766369\n",
      "['engine_size', 'horsepower']\n",
      "3307.7962912753796\n",
      "['engine_size', 'horsepower', 'curb_weight']\n",
      "3527.8020136071377\n",
      "['engine_size', 'curb_weight']\n",
      "3486.4469347905447\n"
     ]
    }
   ],
   "source": [
    "print(best_features[0:2] + best_features[4:6])\n",
    "print(knn_train_test(best_features[0:2] + best_features[4:6], \"price\", cars))\n",
    "print(best_features[0:2] + [\"horsepower\"])\n",
    "print(knn_train_test(best_features[0:2] + [\"horsepower\"], \"price\", cars))\n",
    "print(best_features[0:2]+ [\"curb_weight\"] )\n",
    "print(knn_train_test(best_features[0:2] + [\"curb_weight\"], \"price\", cars))\n",
    "print([\"engine_size\"] + [\"horsepower\"])\n",
    "print(knn_train_test([\"engine_size\"] + [\"horsepower\"], \"price\", cars))\n",
    "print([\"engine_size\"] + best_features[4:6])\n",
    "print(knn_train_test([\"engine_size\"] + best_features[4:6], \"price\", cars))\n",
    "print([\"engine_size\"] + [\"curb_weight\"])\n",
    "print(knn_train_test([\"engine_size\"] + [\"curb_weight\"], \"price\", cars))"
   ]
  },
  {
   "cell_type": "markdown",
   "metadata": {},
   "source": [
    "The ['engine_size', 'city_mpg', 'horsepower'] model entered our top 3 of lowest RMSEs. We will use it along with our 2-feature and 6-feature models based on our ranked columns."
   ]
  },
  {
   "cell_type": "markdown",
   "metadata": {},
   "source": [
    "##Hyperparameter optimisation"
   ]
  },
  {
   "cell_type": "markdown",
   "metadata": {},
   "source": [
    "Using our best 3 models, we will try to optimize the number of nearest neighbors (the k value) to use for our k-nearest neighbor regressions."
   ]
  },
  {
   "cell_type": "code",
   "execution_count": 19,
   "metadata": {
    "collapsed": true
   },
   "outputs": [],
   "source": [
    "#we modify our function again to be able to specify the k value\n",
    "def knn_train_test(train_cols, target_col, df, k):\n",
    "    \n",
    "    temp_df = df.copy()\n",
    "    \n",
    "    np.random.seed(1)\n",
    "    temp_df = temp_df.loc[np.random.permutation(len(temp_df))]\n",
    "    train_df = temp_df.iloc[0: (len(temp_df)//2)]\n",
    "    test_df = temp_df.iloc[(len(temp_df)//2): ]\n",
    "\n",
    "    model = KNeighborsRegressor(n_neighbors = k)\n",
    "    model.fit(train_df[train_cols], train_df[target_col])\n",
    "    predictions = model.predict(test_df[train_cols])\n",
    "    mse = mean_squared_error(test_df[target_col], predictions)\n",
    "    rmse = np.sqrt(mse)\n",
    "    \n",
    "    return(rmse)"
   ]
  },
  {
   "cell_type": "markdown",
   "metadata": {},
   "source": [
    "####Model 1 : Two best features [\"engine_size\", \"city_mpg\"]"
   ]
  },
  {
   "cell_type": "code",
   "execution_count": 23,
   "metadata": {
    "collapsed": false
   },
   "outputs": [
    {
     "name": "stdout",
     "output_type": "stream",
     "text": [
      "{1: 2924.9549426729063, 2: 2574.8943298504178, 3: 2764.2025939362825, 4: 2886.626223652471, 5: 2888.757787238891, 6: 2934.6937630574403, 7: 3293.9329978272435, 8: 3626.8418746063962, 9: 3881.178471571399, 10: 4092.5023872295014, 11: 4246.4630918520215, 12: 4314.874624024474, 13: 4339.881128080336, 14: 4420.305430950575, 15: 4462.228683727407, 16: 4514.781417639632, 17: 4606.006221512096, 18: 4684.73493874961, 19: 4803.883449239475, 20: 4872.229293171082, 21: 4965.371982859882, 22: 5009.206771478388, 23: 5005.011083709456, 24: 5020.394619869478, 25: 5113.027147638015}\n"
     ]
    },
    {
     "data": {
      "image/png": "[encoded data removed]",
      "text/plain": [
       "<matplotlib.figure.Figure at 0x7f321b543128>"
      ]
     },
     "metadata": {},
     "output_type": "display_data"
    }
   ],
   "source": [
    "#trying k values from 1 to 25\n",
    "k_vals = [k for k in range(1, 26)]\n",
    "model_1_cols = best_features[0:2]\n",
    "model_l_rmses = dict()\n",
    "for k in k_vals:\n",
    "    model_l_rmses[k] = knn_train_test(model_1_cols, \"price\", cars, k)\n",
    "plt.plot(list(model_l_rmses.keys()), list(model_l_rmses.values()))\n",
    "plt.xlabel(\"k\")\n",
    "plt.ylabel(\"RMSE\")\n",
    "print(model_l_rmses)"
   ]
  },
  {
   "cell_type": "markdown",
   "metadata": {},
   "source": [
    "For the first model, the best-performing k value is 2. We can see that the model starts losing precision quickly when we use a k value of 7 or more. This could be an indication that a car in our test set doesn't have many similar cars in our 96-row training set so that the 7th nearest neighbor and more doesn't give a good price approximation."
   ]
  },
  {
   "cell_type": "markdown",
   "metadata": {},
   "source": [
    "####Model 2 : Three features [\"engine_size\", \"city_mpg\", \"horsepower\"]"
   ]
  },
  {
   "cell_type": "code",
   "execution_count": 26,
   "metadata": {
    "collapsed": false
   },
   "outputs": [
    {
     "name": "stdout",
     "output_type": "stream",
     "text": [
      "['engine_size', 'city_mpg', 'horsepower']\n",
      "{1: 3095.6636320693283, 2: 2653.1701301619037, 3: 2660.15801796727, 4: 2702.315898900037, 5: 2794.5330559564572, 6: 3157.7415609300583, 7: 3544.652563138925, 8: 3792.662536815537, 9: 4093.581952508499, 10: 4400.872142660096, 11: 4503.034030797913, 12: 4572.871010426032, 13: 4679.993905807461, 14: 4741.385100673091, 15: 4769.973719412811, 16: 4868.2697819827135, 17: 5041.099660935741, 18: 5074.215996376255, 19: 5103.590417018115, 20: 5107.486130299124, 21: 5144.010702450984, 22: 5175.774023132072, 23: 5191.799765791191, 24: 5205.140778122507, 25: 5249.056288727845}\n"
     ]
    },
    {
     "data": {
      "image/png": "[encoded data removed]",
      "text/plain": [
       "<matplotlib.figure.Figure at 0x7f321d68a8d0>"
      ]
     },
     "metadata": {},
     "output_type": "display_data"
    }
   ],
   "source": [
    "model_2_cols = best_features[0:2] + [\"horsepower\"]\n",
    "print(model_2_cols)\n",
    "model_2_rmses = dict()\n",
    "for k in k_vals:\n",
    "    model_2_rmses[k] = knn_train_test(model_2_cols, \"price\", cars, k)\n",
    "plt.plot(list(model_2_rmses.keys()), list(model_2_rmses.values()))\n",
    "plt.xlabel(\"k\")\n",
    "plt.ylabel(\"RMSE\")\n",
    "print(model_2_rmses)"
   ]
  },
  {
   "cell_type": "markdown",
   "metadata": {},
   "source": [
    "Again with this model, the best predictions come from when k=2. It starts losing precision quickly when k=6 or more."
   ]
  },
  {
   "cell_type": "markdown",
   "metadata": {},
   "source": [
    "####Model 3: Six best features ['engine_size', 'city_mpg', 'highway_mpg', 'width', 'horsepower', 'curb_weight']"
   ]
  },
  {
   "cell_type": "code",
   "execution_count": 28,
   "metadata": {
    "collapsed": false
   },
   "outputs": [
    {
     "name": "stdout",
     "output_type": "stream",
     "text": [
      "{1: 2833.8233577477386, 2: 2608.6290785143897, 3: 2504.2208285878733, 4: 2527.1903778166707, 5: 2792.7336315278385, 6: 3167.295907831506, 7: 3464.6160156111455, 8: 3677.909622119141, 9: 3951.774438832052, 10: 4153.79136256866, 11: 4394.757221154051, 12: 4567.437399137247, 13: 4691.963583115921, 14: 4829.929307399544, 15: 4935.623946437588, 16: 4930.939693690989, 17: 4921.658275166599, 18: 4908.94822530806, 19: 4902.646475281891, 20: 4975.364547295965, 21: 4988.029595736679, 22: 5086.925722176825, 23: 5114.580779034599, 24: 5194.867410027815, 25: 5187.124464946835}\n"
     ]
    },
    {
     "data": {
      "image/png": "[encoded data removed]",
      "text/plain": [
       "<matplotlib.figure.Figure at 0x7f321d74b550>"
      ]
     },
     "metadata": {},
     "output_type": "display_data"
    }
   ],
   "source": [
    "model_3_cols = best_features[0:6]\n",
    "model_3_rmses = dict()\n",
    "for k in k_vals:\n",
    "    model_3_rmses[k] = knn_train_test(model_3_cols, \"price\", cars, k)\n",
    "plt.plot(list(model_3_rmses.keys()), list(model_3_rmses.values()))\n",
    "plt.xlabel(\"k\")\n",
    "plt.ylabel(\"RMSE\")\n",
    "print(model_3_rmses)"
   ]
  },
  {
   "cell_type": "markdown",
   "metadata": {},
   "source": [
    "With this model, we achieve our lowest RMSE over all our models when k=3, with a RMSE of 2504$. Like for the second model, the RMSE rises above 3000 when k reaches 6 and rises significantly after that."
   ]
  },
  {
   "cell_type": "markdown",
   "metadata": {},
   "source": [
    "##K-Fold cross validation"
   ]
  },
  {
   "cell_type": "markdown",
   "metadata": {
    "collapsed": true
   },
   "source": [
    "The last step of our project will be to verify that our results aren't too biased by the 50/50 random split between our training and testing data that we have been using so far. To do that, we will perform a k-fold cross validation on our best model so far : the 6-feature model. We will use 2 nearest neighbors instead of 3, because it was performing better across the three tested feature combinations above.\n",
    "\n",
    "Because we want the model to make at least around 40 predictions per test set and we have 192 rows of data, we will split the data in 5 folds. The cross validation technique will return a list of 5 mean squared errors, one for every fifth of the data used as a test set (the other 4/5 being used for training)."
   ]
  },
  {
   "cell_type": "code",
   "execution_count": 47,
   "metadata": {
    "collapsed": false
   },
   "outputs": [
    {
     "name": "stdout",
     "output_type": "stream",
     "text": [
      "[3487.15821136 3926.09140632 1679.1688714  2625.88032858 1924.68603728]\n",
      "2728.5969709865526\n"
     ]
    }
   ],
   "source": [
    "from sklearn.model_selection import cross_val_score, KFold\n",
    "kf = KFold(5, shuffle=True, random_state=1)\n",
    "model = KNeighborsRegressor(n_neighbors = 3)\n",
    "mses = cross_val_score(model, cars[model_3_cols], cars[\"price\"], scoring=\"neg_mean_squared_error\", cv=kf)\n",
    "rmses = np.abs(mses) ** (1/2)\n",
    "print(rmses)\n",
    "avg_rmse = np.mean(rmses)\n",
    "print(avg_rmse)"
   ]
  },
  {
   "cell_type": "markdown",
   "metadata": {},
   "source": [
    "The cross-validation gives us an average RMSE of around 2729 over our 5 test sets. It is not too far from our 2504 minimal value found with the 50/50 split, and even closer to the 2608 value we had when using 2 nearest neighbors as we did to do the cross validation. This confirms that our initial 50/50 random split was valid and did not cause major errors in our calculations."
   ]
  },
  {
   "cell_type": "markdown",
   "metadata": {},
   "source": [
    "##Conclusion"
   ]
  },
  {
   "cell_type": "markdown",
   "metadata": {},
   "source": [
    "In this project, a K-Nearest Neighbors machine learning model to train and test our dataset of car specifications in order to predict car prices. We started by identifying the features that allowed our model that make the most precise predictions. Then, we combined our best features in various combinations to find to best multivariate models. The most promising model turned out to be the one using our best six features: ['engine_size', 'city_mpg', 'highway_mpg', 'width', 'horsepower', 'curb_weight']. This can be due to the wide variety of cars in our dataset, and more generally in the automotive world. We know that for example, almost every type of vehicle (ex. sedan, van, SUV) has both luxury and more affordable existing vehicles. This can explain why we might need as much as six features to precisely evaluate which cars have similar prices : both the type and the luxury level of a car modulates its price. After determining our best multivariate models, we tested many values of k, the number of nearest neighbors our model uses. We found out that it performs better using only 2 or 3 nearest neighbors from the training set. This might be due to our dataset potentially having many groups of 3 or 4 similar cars and that by using cars outside of their top 3 neighbors we might in fact use a very different car. At the end, we confirmed that the training and testing groups we have been using from the start were not too biased by doing a 5-fold cross validation using our 6-feature model with 2 nearest neighbors."
   ]
  }
 ],
 "metadata": {
  "kernelspec": {
   "display_name": "Python 3",
   "language": "python",
   "name": "python3"
  },
  "language_info": {
   "codemirror_mode": {
    "name": "ipython",
    "version": 3
   },
   "file_extension": ".py",
   "mimetype": "text/x-python",
   "name": "python",
   "nbconvert_exporter": "python",
   "pygments_lexer": "ipython3",
   "version": "3.4.3"
  }
 },
 "nbformat": 4,
 "nbformat_minor": 2
}
